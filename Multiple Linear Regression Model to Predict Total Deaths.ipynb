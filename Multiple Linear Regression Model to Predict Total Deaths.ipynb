{
 "cells": [
  {
   "cell_type": "code",
   "execution_count": 2,
   "id": "0d77655a",
   "metadata": {},
   "outputs": [],
   "source": [
    "#imports\n",
    "import numpy as np\n",
    "import pandas as pd\n",
    "import matplotlib.pyplot as plt\n",
    "from sklearn.cluster import KMeans\n",
    "from sklearn.model_selection import train_test_split\n",
    "from sklearn.linear_model import LinearRegression\n",
    "from sklearn import preprocessing\n",
    "from sklearn import metrics\n",
    "\n",
    "\n",
    "import warnings\n",
    "warnings.filterwarnings('ignore')"
   ]
  },
  {
   "cell_type": "code",
   "execution_count": 51,
   "id": "0e4fb99d",
   "metadata": {},
   "outputs": [],
   "source": [
    "df = pd.read_csv(\"covid_data.csv\")"
   ]
  },
  {
   "cell_type": "code",
   "execution_count": 52,
   "id": "04d32e4c",
   "metadata": {},
   "outputs": [],
   "source": [
    "dftoDrop = df[df['iso_code'].str.match('OWID*')]\n",
    "df_new = df.merge(dftoDrop, how='left', indicator=True)\n",
    "df = df_new[df_new['_merge'] == 'left_only']"
   ]
  },
  {
   "cell_type": "markdown",
   "id": "4633f0c6",
   "metadata": {},
   "source": [
    "## Listing All the Variables"
   ]
  },
  {
   "cell_type": "code",
   "execution_count": 5,
   "id": "bb805585",
   "metadata": {},
   "outputs": [
    {
     "name": "stdout",
     "output_type": "stream",
     "text": [
      "(219559, 68)\n",
      "['iso_code', 'continent', 'location', 'date', 'total_cases', 'new_cases', 'new_cases_smoothed', 'total_deaths', 'new_deaths', 'new_deaths_smoothed', 'total_cases_per_million', 'new_cases_per_million', 'new_cases_smoothed_per_million', 'total_deaths_per_million', 'new_deaths_per_million', 'new_deaths_smoothed_per_million', 'reproduction_rate', 'icu_patients', 'icu_patients_per_million', 'hosp_patients', 'hosp_patients_per_million', 'weekly_icu_admissions', 'weekly_icu_admissions_per_million', 'weekly_hosp_admissions', 'weekly_hosp_admissions_per_million', 'total_tests', 'new_tests', 'total_tests_per_thousand', 'new_tests_per_thousand', 'new_tests_smoothed', 'new_tests_smoothed_per_thousand', 'positive_rate', 'tests_per_case', 'tests_units', 'total_vaccinations', 'people_vaccinated', 'people_fully_vaccinated', 'total_boosters', 'new_vaccinations', 'new_vaccinations_smoothed', 'total_vaccinations_per_hundred', 'people_vaccinated_per_hundred', 'people_fully_vaccinated_per_hundred', 'total_boosters_per_hundred', 'new_vaccinations_smoothed_per_million', 'new_people_vaccinated_smoothed', 'new_people_vaccinated_smoothed_per_hundred', 'stringency_index', 'population_density', 'median_age', 'aged_65_older', 'aged_70_older', 'gdp_per_capita', 'extreme_poverty', 'cardiovasc_death_rate', 'diabetes_prevalence', 'female_smokers', 'male_smokers', 'handwashing_facilities', 'hospital_beds_per_thousand', 'life_expectancy', 'human_development_index', 'population', 'excess_mortality_cumulative_absolute', 'excess_mortality_cumulative', 'excess_mortality', 'excess_mortality_cumulative_per_million', '_merge'] variables\n"
     ]
    }
   ],
   "source": [
    "print(df.shape)\n",
    "variables = list(df.columns)\n",
    "print(f\"{variables} variables\")"
   ]
  },
  {
   "cell_type": "markdown",
   "id": "bc437afa",
   "metadata": {},
   "source": [
    "## Dealing with Missing Values"
   ]
  },
  {
   "cell_type": "code",
   "execution_count": 53,
   "id": "a10d86ee",
   "metadata": {},
   "outputs": [
    {
     "data": {
      "text/plain": [
       "6475926"
      ]
     },
     "execution_count": 53,
     "metadata": {},
     "output_type": "execute_result"
    }
   ],
   "source": [
    "#Count Missings\n",
    "df.isnull().sum().sum()"
   ]
  },
  {
   "cell_type": "code",
   "execution_count": 6,
   "id": "2910f11a",
   "metadata": {},
   "outputs": [
    {
     "data": {
      "text/plain": [
       "0"
      ]
     },
     "execution_count": 6,
     "metadata": {},
     "output_type": "execute_result"
    }
   ],
   "source": [
    "df = df.fillna(value = 0) #fill with zero\n",
    "df.isnull().sum().sum()"
   ]
  },
  {
   "cell_type": "markdown",
   "id": "f8dc1c84",
   "metadata": {},
   "source": [
    "## Get the Correlation Matrix"
   ]
  },
  {
   "cell_type": "code",
   "execution_count": 7,
   "id": "ce84a72c",
   "metadata": {},
   "outputs": [],
   "source": [
    "corrMatrix = df.corr()"
   ]
  },
  {
   "cell_type": "code",
   "execution_count": 47,
   "id": "c08f0cc8",
   "metadata": {},
   "outputs": [
    {
     "name": "stdout",
     "output_type": "stream",
     "text": [
      "Column to explore 6\n"
     ]
    },
    {
     "data": {
      "text/plain": [
       "total_cases                0.891781\n",
       "total_deaths               1.000000\n",
       "new_deaths_smoothed        0.516226\n",
       "total_tests                0.550874\n",
       "people_vaccinated          0.561458\n",
       "people_fully_vaccinated    0.522251\n",
       "Name: total_deaths, dtype: float64"
      ]
     },
     "execution_count": 47,
     "metadata": {},
     "output_type": "execute_result"
    }
   ],
   "source": [
    "deathRateCol = corrMatrix['total_deaths'] \n",
    "columnsToExplore = deathRateCol[abs(corrMatrix['total_deaths']) > 0.5]\n",
    "print(\"Columns to explore\", len(columnsToExplore))\n",
    "columnsToExplore"
   ]
  },
  {
   "cell_type": "code",
   "execution_count": 9,
   "id": "08019117",
   "metadata": {},
   "outputs": [],
   "source": [
    "indexList = columnsToExplore.index.values.tolist() #variables that might be useful"
   ]
  },
  {
   "cell_type": "code",
   "execution_count": 10,
   "id": "d5fb1b7c",
   "metadata": {},
   "outputs": [
    {
     "data": {
      "text/html": [
       "<div>\n",
       "<style scoped>\n",
       "    .dataframe tbody tr th:only-of-type {\n",
       "        vertical-align: middle;\n",
       "    }\n",
       "\n",
       "    .dataframe tbody tr th {\n",
       "        vertical-align: top;\n",
       "    }\n",
       "\n",
       "    .dataframe thead th {\n",
       "        text-align: right;\n",
       "    }\n",
       "</style>\n",
       "<table border=\"1\" class=\"dataframe\">\n",
       "  <thead>\n",
       "    <tr style=\"text-align: right;\">\n",
       "      <th></th>\n",
       "      <th>iso_code</th>\n",
       "      <th>continent</th>\n",
       "      <th>location</th>\n",
       "      <th>date</th>\n",
       "      <th>total_cases</th>\n",
       "      <th>new_cases</th>\n",
       "      <th>new_cases_smoothed</th>\n",
       "      <th>total_deaths</th>\n",
       "      <th>new_deaths</th>\n",
       "      <th>new_deaths_smoothed</th>\n",
       "      <th>...</th>\n",
       "      <th>handwashing_facilities</th>\n",
       "      <th>hospital_beds_per_thousand</th>\n",
       "      <th>life_expectancy</th>\n",
       "      <th>human_development_index</th>\n",
       "      <th>population</th>\n",
       "      <th>excess_mortality_cumulative_absolute</th>\n",
       "      <th>excess_mortality_cumulative</th>\n",
       "      <th>excess_mortality</th>\n",
       "      <th>excess_mortality_cumulative_per_million</th>\n",
       "      <th>_merge</th>\n",
       "    </tr>\n",
       "  </thead>\n",
       "  <tbody>\n",
       "    <tr>\n",
       "      <th>2370</th>\n",
       "      <td>ALB</td>\n",
       "      <td>Europe</td>\n",
       "      <td>Albania</td>\n",
       "      <td>2021-02-02</td>\n",
       "      <td>79934.0</td>\n",
       "      <td>942.0</td>\n",
       "      <td>891.857</td>\n",
       "      <td>1398.0</td>\n",
       "      <td>5.0</td>\n",
       "      <td>9.429</td>\n",
       "      <td>...</td>\n",
       "      <td>0.000</td>\n",
       "      <td>2.89</td>\n",
       "      <td>78.57</td>\n",
       "      <td>0.795</td>\n",
       "      <td>2842318.0</td>\n",
       "      <td>0.0</td>\n",
       "      <td>0.0</td>\n",
       "      <td>0.0</td>\n",
       "      <td>0.0</td>\n",
       "      <td>left_only</td>\n",
       "    </tr>\n",
       "    <tr>\n",
       "      <th>2377</th>\n",
       "      <td>ALB</td>\n",
       "      <td>Europe</td>\n",
       "      <td>Albania</td>\n",
       "      <td>2021-02-09</td>\n",
       "      <td>87528.0</td>\n",
       "      <td>1239.0</td>\n",
       "      <td>1084.857</td>\n",
       "      <td>1488.0</td>\n",
       "      <td>16.0</td>\n",
       "      <td>12.857</td>\n",
       "      <td>...</td>\n",
       "      <td>0.000</td>\n",
       "      <td>2.89</td>\n",
       "      <td>78.57</td>\n",
       "      <td>0.795</td>\n",
       "      <td>2842318.0</td>\n",
       "      <td>0.0</td>\n",
       "      <td>0.0</td>\n",
       "      <td>0.0</td>\n",
       "      <td>0.0</td>\n",
       "      <td>left_only</td>\n",
       "    </tr>\n",
       "    <tr>\n",
       "      <th>2385</th>\n",
       "      <td>ALB</td>\n",
       "      <td>Europe</td>\n",
       "      <td>Albania</td>\n",
       "      <td>2021-02-17</td>\n",
       "      <td>95726.0</td>\n",
       "      <td>1075.0</td>\n",
       "      <td>1007.857</td>\n",
       "      <td>1600.0</td>\n",
       "      <td>18.0</td>\n",
       "      <td>13.857</td>\n",
       "      <td>...</td>\n",
       "      <td>0.000</td>\n",
       "      <td>2.89</td>\n",
       "      <td>78.57</td>\n",
       "      <td>0.795</td>\n",
       "      <td>2842318.0</td>\n",
       "      <td>0.0</td>\n",
       "      <td>0.0</td>\n",
       "      <td>0.0</td>\n",
       "      <td>0.0</td>\n",
       "      <td>left_only</td>\n",
       "    </tr>\n",
       "    <tr>\n",
       "      <th>2386</th>\n",
       "      <td>ALB</td>\n",
       "      <td>Europe</td>\n",
       "      <td>Albania</td>\n",
       "      <td>2021-02-18</td>\n",
       "      <td>96838.0</td>\n",
       "      <td>1112.0</td>\n",
       "      <td>1008.857</td>\n",
       "      <td>1617.0</td>\n",
       "      <td>17.0</td>\n",
       "      <td>14.286</td>\n",
       "      <td>...</td>\n",
       "      <td>0.000</td>\n",
       "      <td>2.89</td>\n",
       "      <td>78.57</td>\n",
       "      <td>0.795</td>\n",
       "      <td>2842318.0</td>\n",
       "      <td>0.0</td>\n",
       "      <td>0.0</td>\n",
       "      <td>0.0</td>\n",
       "      <td>0.0</td>\n",
       "      <td>left_only</td>\n",
       "    </tr>\n",
       "    <tr>\n",
       "      <th>2390</th>\n",
       "      <td>ALB</td>\n",
       "      <td>Europe</td>\n",
       "      <td>Albania</td>\n",
       "      <td>2021-02-22</td>\n",
       "      <td>101285.0</td>\n",
       "      <td>1039.0</td>\n",
       "      <td>1062.143</td>\n",
       "      <td>1681.0</td>\n",
       "      <td>15.0</td>\n",
       "      <td>16.286</td>\n",
       "      <td>...</td>\n",
       "      <td>0.000</td>\n",
       "      <td>2.89</td>\n",
       "      <td>78.57</td>\n",
       "      <td>0.795</td>\n",
       "      <td>2842318.0</td>\n",
       "      <td>0.0</td>\n",
       "      <td>0.0</td>\n",
       "      <td>0.0</td>\n",
       "      <td>0.0</td>\n",
       "      <td>left_only</td>\n",
       "    </tr>\n",
       "    <tr>\n",
       "      <th>...</th>\n",
       "      <td>...</td>\n",
       "      <td>...</td>\n",
       "      <td>...</td>\n",
       "      <td>...</td>\n",
       "      <td>...</td>\n",
       "      <td>...</td>\n",
       "      <td>...</td>\n",
       "      <td>...</td>\n",
       "      <td>...</td>\n",
       "      <td>...</td>\n",
       "      <td>...</td>\n",
       "      <td>...</td>\n",
       "      <td>...</td>\n",
       "      <td>...</td>\n",
       "      <td>...</td>\n",
       "      <td>...</td>\n",
       "      <td>...</td>\n",
       "      <td>...</td>\n",
       "      <td>...</td>\n",
       "      <td>...</td>\n",
       "      <td>...</td>\n",
       "    </tr>\n",
       "    <tr>\n",
       "      <th>238058</th>\n",
       "      <td>ZWE</td>\n",
       "      <td>Africa</td>\n",
       "      <td>Zimbabwe</td>\n",
       "      <td>2022-06-05</td>\n",
       "      <td>253338.0</td>\n",
       "      <td>102.0</td>\n",
       "      <td>178.000</td>\n",
       "      <td>5510.0</td>\n",
       "      <td>1.0</td>\n",
       "      <td>1.429</td>\n",
       "      <td>...</td>\n",
       "      <td>36.791</td>\n",
       "      <td>1.70</td>\n",
       "      <td>61.49</td>\n",
       "      <td>0.571</td>\n",
       "      <td>16320539.0</td>\n",
       "      <td>0.0</td>\n",
       "      <td>0.0</td>\n",
       "      <td>0.0</td>\n",
       "      <td>0.0</td>\n",
       "      <td>left_only</td>\n",
       "    </tr>\n",
       "    <tr>\n",
       "      <th>238061</th>\n",
       "      <td>ZWE</td>\n",
       "      <td>Africa</td>\n",
       "      <td>Zimbabwe</td>\n",
       "      <td>2022-06-08</td>\n",
       "      <td>253779.0</td>\n",
       "      <td>142.0</td>\n",
       "      <td>129.286</td>\n",
       "      <td>5515.0</td>\n",
       "      <td>0.0</td>\n",
       "      <td>1.143</td>\n",
       "      <td>...</td>\n",
       "      <td>36.791</td>\n",
       "      <td>1.70</td>\n",
       "      <td>61.49</td>\n",
       "      <td>0.571</td>\n",
       "      <td>16320539.0</td>\n",
       "      <td>0.0</td>\n",
       "      <td>0.0</td>\n",
       "      <td>0.0</td>\n",
       "      <td>0.0</td>\n",
       "      <td>left_only</td>\n",
       "    </tr>\n",
       "    <tr>\n",
       "      <th>238065</th>\n",
       "      <td>ZWE</td>\n",
       "      <td>Africa</td>\n",
       "      <td>Zimbabwe</td>\n",
       "      <td>2022-06-12</td>\n",
       "      <td>254098.0</td>\n",
       "      <td>67.0</td>\n",
       "      <td>108.571</td>\n",
       "      <td>5521.0</td>\n",
       "      <td>3.0</td>\n",
       "      <td>1.571</td>\n",
       "      <td>...</td>\n",
       "      <td>36.791</td>\n",
       "      <td>1.70</td>\n",
       "      <td>61.49</td>\n",
       "      <td>0.571</td>\n",
       "      <td>16320539.0</td>\n",
       "      <td>0.0</td>\n",
       "      <td>0.0</td>\n",
       "      <td>0.0</td>\n",
       "      <td>0.0</td>\n",
       "      <td>left_only</td>\n",
       "    </tr>\n",
       "    <tr>\n",
       "      <th>238069</th>\n",
       "      <td>ZWE</td>\n",
       "      <td>Africa</td>\n",
       "      <td>Zimbabwe</td>\n",
       "      <td>2022-06-16</td>\n",
       "      <td>254502.0</td>\n",
       "      <td>115.0</td>\n",
       "      <td>103.286</td>\n",
       "      <td>5526.0</td>\n",
       "      <td>1.0</td>\n",
       "      <td>1.571</td>\n",
       "      <td>...</td>\n",
       "      <td>36.791</td>\n",
       "      <td>1.70</td>\n",
       "      <td>61.49</td>\n",
       "      <td>0.571</td>\n",
       "      <td>16320539.0</td>\n",
       "      <td>0.0</td>\n",
       "      <td>0.0</td>\n",
       "      <td>0.0</td>\n",
       "      <td>0.0</td>\n",
       "      <td>left_only</td>\n",
       "    </tr>\n",
       "    <tr>\n",
       "      <th>238075</th>\n",
       "      <td>ZWE</td>\n",
       "      <td>Africa</td>\n",
       "      <td>Zimbabwe</td>\n",
       "      <td>2022-06-22</td>\n",
       "      <td>255049.0</td>\n",
       "      <td>130.0</td>\n",
       "      <td>94.571</td>\n",
       "      <td>5541.0</td>\n",
       "      <td>5.0</td>\n",
       "      <td>2.286</td>\n",
       "      <td>...</td>\n",
       "      <td>36.791</td>\n",
       "      <td>1.70</td>\n",
       "      <td>61.49</td>\n",
       "      <td>0.571</td>\n",
       "      <td>16320539.0</td>\n",
       "      <td>0.0</td>\n",
       "      <td>0.0</td>\n",
       "      <td>0.0</td>\n",
       "      <td>0.0</td>\n",
       "      <td>left_only</td>\n",
       "    </tr>\n",
       "  </tbody>\n",
       "</table>\n",
       "<p>25439 rows × 68 columns</p>\n",
       "</div>"
      ],
      "text/plain": [
       "       iso_code continent  location        date  total_cases  new_cases  \\\n",
       "2370        ALB    Europe   Albania  2021-02-02      79934.0      942.0   \n",
       "2377        ALB    Europe   Albania  2021-02-09      87528.0     1239.0   \n",
       "2385        ALB    Europe   Albania  2021-02-17      95726.0     1075.0   \n",
       "2386        ALB    Europe   Albania  2021-02-18      96838.0     1112.0   \n",
       "2390        ALB    Europe   Albania  2021-02-22     101285.0     1039.0   \n",
       "...         ...       ...       ...         ...          ...        ...   \n",
       "238058      ZWE    Africa  Zimbabwe  2022-06-05     253338.0      102.0   \n",
       "238061      ZWE    Africa  Zimbabwe  2022-06-08     253779.0      142.0   \n",
       "238065      ZWE    Africa  Zimbabwe  2022-06-12     254098.0       67.0   \n",
       "238069      ZWE    Africa  Zimbabwe  2022-06-16     254502.0      115.0   \n",
       "238075      ZWE    Africa  Zimbabwe  2022-06-22     255049.0      130.0   \n",
       "\n",
       "        new_cases_smoothed  total_deaths  new_deaths  new_deaths_smoothed  \\\n",
       "2370               891.857        1398.0         5.0                9.429   \n",
       "2377              1084.857        1488.0        16.0               12.857   \n",
       "2385              1007.857        1600.0        18.0               13.857   \n",
       "2386              1008.857        1617.0        17.0               14.286   \n",
       "2390              1062.143        1681.0        15.0               16.286   \n",
       "...                    ...           ...         ...                  ...   \n",
       "238058             178.000        5510.0         1.0                1.429   \n",
       "238061             129.286        5515.0         0.0                1.143   \n",
       "238065             108.571        5521.0         3.0                1.571   \n",
       "238069             103.286        5526.0         1.0                1.571   \n",
       "238075              94.571        5541.0         5.0                2.286   \n",
       "\n",
       "        ...  handwashing_facilities  hospital_beds_per_thousand  \\\n",
       "2370    ...                   0.000                        2.89   \n",
       "2377    ...                   0.000                        2.89   \n",
       "2385    ...                   0.000                        2.89   \n",
       "2386    ...                   0.000                        2.89   \n",
       "2390    ...                   0.000                        2.89   \n",
       "...     ...                     ...                         ...   \n",
       "238058  ...                  36.791                        1.70   \n",
       "238061  ...                  36.791                        1.70   \n",
       "238065  ...                  36.791                        1.70   \n",
       "238069  ...                  36.791                        1.70   \n",
       "238075  ...                  36.791                        1.70   \n",
       "\n",
       "        life_expectancy  human_development_index  population  \\\n",
       "2370              78.57                    0.795   2842318.0   \n",
       "2377              78.57                    0.795   2842318.0   \n",
       "2385              78.57                    0.795   2842318.0   \n",
       "2386              78.57                    0.795   2842318.0   \n",
       "2390              78.57                    0.795   2842318.0   \n",
       "...                 ...                      ...         ...   \n",
       "238058            61.49                    0.571  16320539.0   \n",
       "238061            61.49                    0.571  16320539.0   \n",
       "238065            61.49                    0.571  16320539.0   \n",
       "238069            61.49                    0.571  16320539.0   \n",
       "238075            61.49                    0.571  16320539.0   \n",
       "\n",
       "        excess_mortality_cumulative_absolute  excess_mortality_cumulative  \\\n",
       "2370                                     0.0                          0.0   \n",
       "2377                                     0.0                          0.0   \n",
       "2385                                     0.0                          0.0   \n",
       "2386                                     0.0                          0.0   \n",
       "2390                                     0.0                          0.0   \n",
       "...                                      ...                          ...   \n",
       "238058                                   0.0                          0.0   \n",
       "238061                                   0.0                          0.0   \n",
       "238065                                   0.0                          0.0   \n",
       "238069                                   0.0                          0.0   \n",
       "238075                                   0.0                          0.0   \n",
       "\n",
       "        excess_mortality  excess_mortality_cumulative_per_million     _merge  \n",
       "2370                 0.0                                      0.0  left_only  \n",
       "2377                 0.0                                      0.0  left_only  \n",
       "2385                 0.0                                      0.0  left_only  \n",
       "2386                 0.0                                      0.0  left_only  \n",
       "2390                 0.0                                      0.0  left_only  \n",
       "...                  ...                                      ...        ...  \n",
       "238058               0.0                                      0.0  left_only  \n",
       "238061               0.0                                      0.0  left_only  \n",
       "238065               0.0                                      0.0  left_only  \n",
       "238069               0.0                                      0.0  left_only  \n",
       "238075               0.0                                      0.0  left_only  \n",
       "\n",
       "[25439 rows x 68 columns]"
      ]
     },
     "execution_count": 10,
     "metadata": {},
     "output_type": "execute_result"
    }
   ],
   "source": [
    "for i in range(len(indexList)):              #get rid of rows with 0 entry for the prospective predictors\n",
    "    df = df[df[indexList[i]] != 0]\n",
    "df"
   ]
  },
  {
   "cell_type": "code",
   "execution_count": 11,
   "id": "3b4beeda",
   "metadata": {},
   "outputs": [
    {
     "name": "stdout",
     "output_type": "stream",
     "text": [
      "Column to explore 16\n"
     ]
    },
    {
     "data": {
      "text/plain": [
       "total_cases                  0.919755\n",
       "total_deaths                 1.000000\n",
       "new_deaths                   0.570806\n",
       "new_deaths_smoothed          0.616168\n",
       "icu_patients                 0.540500\n",
       "hosp_patients                0.544404\n",
       "weekly_hosp_admissions       0.564740\n",
       "total_tests                  0.853740\n",
       "new_tests                    0.541060\n",
       "new_tests_smoothed           0.681367\n",
       "total_vaccinations           0.638795\n",
       "people_vaccinated            0.622674\n",
       "people_fully_vaccinated      0.610315\n",
       "total_boosters               0.537158\n",
       "new_vaccinations_smoothed    0.516229\n",
       "population                   0.585456\n",
       "Name: total_deaths, dtype: float64"
      ]
     },
     "execution_count": 11,
     "metadata": {},
     "output_type": "execute_result"
    }
   ],
   "source": [
    "corrMatrix2 = df.corr()#update the correlation matrix\n",
    "deathRateCol2 = corrMatrix2['total_deaths'] \n",
    "columnsToExplore2 = deathRateCol2[abs(corrMatrix2['total_deaths']) >0.5]\n",
    "print(\"Column to explore\", len(columnsToExplore2))\n",
    "columnsToExplore2"
   ]
  },
  {
   "cell_type": "markdown",
   "id": "3a388117",
   "metadata": {},
   "source": [
    "## Doing a Multiple Linear Regression"
   ]
  },
  {
   "cell_type": "code",
   "execution_count": 12,
   "id": "59997105",
   "metadata": {},
   "outputs": [],
   "source": [
    "X = df[[\"population\",\"total_boosters\", \"total_vaccinations\", \"total_tests\",\"weekly_hosp_admissions\", \"total_cases\", \"icu_patients\"]]\n",
    "Y = df[[\"total_deaths\"]]"
   ]
  },
  {
   "cell_type": "code",
   "execution_count": 13,
   "id": "d8f14264",
   "metadata": {},
   "outputs": [],
   "source": [
    "X_train, X_test, y_train, y_test = train_test_split(X, Y, test_size=0.3, random_state=101)"
   ]
  },
  {
   "cell_type": "markdown",
   "id": "28b2aa75",
   "metadata": {},
   "source": [
    "## Normalization"
   ]
  },
  {
   "cell_type": "code",
   "execution_count": 14,
   "id": "3d3cb87c",
   "metadata": {},
   "outputs": [],
   "source": [
    "x_scaler = preprocessing.StandardScaler().fit(X_train)\n",
    "X_train = x_scaler.transform(X_train)\n",
    "\n",
    "y_scaler = preprocessing.StandardScaler().fit(y_train)\n",
    "y_train = y_scaler.transform(y_train)"
   ]
  },
  {
   "cell_type": "markdown",
   "id": "55d523d2",
   "metadata": {},
   "source": [
    "## Model Training"
   ]
  },
  {
   "cell_type": "code",
   "execution_count": 15,
   "id": "28c1607c",
   "metadata": {},
   "outputs": [],
   "source": [
    "model1=LinearRegression()\n",
    "model1.fit(X_train , y_train)\n",
    "y_pred= model1.predict(X_train)"
   ]
  },
  {
   "cell_type": "markdown",
   "id": "f9734796",
   "metadata": {},
   "source": [
    "## Model Testing: Training Data"
   ]
  },
  {
   "cell_type": "code",
   "execution_count": 16,
   "id": "85d59571",
   "metadata": {},
   "outputs": [
    {
     "data": {
      "text/html": [
       "<div>\n",
       "<style scoped>\n",
       "    .dataframe tbody tr th:only-of-type {\n",
       "        vertical-align: middle;\n",
       "    }\n",
       "\n",
       "    .dataframe tbody tr th {\n",
       "        vertical-align: top;\n",
       "    }\n",
       "\n",
       "    .dataframe thead th {\n",
       "        text-align: right;\n",
       "    }\n",
       "</style>\n",
       "<table border=\"1\" class=\"dataframe\">\n",
       "  <thead>\n",
       "    <tr style=\"text-align: right;\">\n",
       "      <th></th>\n",
       "      <th>Metrics</th>\n",
       "    </tr>\n",
       "  </thead>\n",
       "  <tbody>\n",
       "    <tr>\n",
       "      <th>MSE</th>\n",
       "      <td>0.116259</td>\n",
       "    </tr>\n",
       "    <tr>\n",
       "      <th>RMSE</th>\n",
       "      <td>0.340967</td>\n",
       "    </tr>\n",
       "  </tbody>\n",
       "</table>\n",
       "</div>"
      ],
      "text/plain": [
       "       Metrics\n",
       "MSE   0.116259\n",
       "RMSE  0.340967"
      ]
     },
     "execution_count": 16,
     "metadata": {},
     "output_type": "execute_result"
    }
   ],
   "source": [
    "MSE = metrics.mean_squared_error(y_train, y_pred)\n",
    "RMSE = np.sqrt(MSE)\n",
    "pd.DataFrame([MSE, RMSE], index=['MSE', 'RMSE'], columns=['Metrics'])"
   ]
  },
  {
   "cell_type": "code",
   "execution_count": 17,
   "id": "03beb70b",
   "metadata": {},
   "outputs": [
    {
     "data": {
      "text/plain": [
       "0.8837413541623901"
      ]
     },
     "execution_count": 17,
     "metadata": {},
     "output_type": "execute_result"
    }
   ],
   "source": [
    "metrics.r2_score(y_train, y_pred)"
   ]
  },
  {
   "cell_type": "markdown",
   "id": "c591be2b",
   "metadata": {},
   "source": [
    "## Model Testing: Testing Data"
   ]
  },
  {
   "cell_type": "code",
   "execution_count": 18,
   "id": "51a61564",
   "metadata": {},
   "outputs": [],
   "source": [
    "X_test = x_scaler.transform(X_test)\n",
    "y_test = y_scaler.transform(y_test)\n",
    "y_pred= model1.predict(X_test)"
   ]
  },
  {
   "cell_type": "code",
   "execution_count": 19,
   "id": "fe143efd",
   "metadata": {},
   "outputs": [
    {
     "data": {
      "text/html": [
       "<div>\n",
       "<style scoped>\n",
       "    .dataframe tbody tr th:only-of-type {\n",
       "        vertical-align: middle;\n",
       "    }\n",
       "\n",
       "    .dataframe tbody tr th {\n",
       "        vertical-align: top;\n",
       "    }\n",
       "\n",
       "    .dataframe thead th {\n",
       "        text-align: right;\n",
       "    }\n",
       "</style>\n",
       "<table border=\"1\" class=\"dataframe\">\n",
       "  <thead>\n",
       "    <tr style=\"text-align: right;\">\n",
       "      <th></th>\n",
       "      <th>Metrics</th>\n",
       "    </tr>\n",
       "  </thead>\n",
       "  <tbody>\n",
       "    <tr>\n",
       "      <th>MSE</th>\n",
       "      <td>0.113402</td>\n",
       "    </tr>\n",
       "    <tr>\n",
       "      <th>RMSE</th>\n",
       "      <td>0.336752</td>\n",
       "    </tr>\n",
       "  </tbody>\n",
       "</table>\n",
       "</div>"
      ],
      "text/plain": [
       "       Metrics\n",
       "MSE   0.113402\n",
       "RMSE  0.336752"
      ]
     },
     "execution_count": 19,
     "metadata": {},
     "output_type": "execute_result"
    }
   ],
   "source": [
    "MSE = metrics.mean_squared_error(y_test, y_pred)\n",
    "RMSE = np.sqrt(MSE)\n",
    "pd.DataFrame([MSE, RMSE], index=['MSE', 'RMSE'], columns=['Metrics'])"
   ]
  },
  {
   "cell_type": "code",
   "execution_count": 20,
   "id": "4f65754b",
   "metadata": {},
   "outputs": [
    {
     "data": {
      "text/plain": [
       "0.8740871136734586"
      ]
     },
     "execution_count": 20,
     "metadata": {},
     "output_type": "execute_result"
    }
   ],
   "source": [
    "metrics.r2_score(y_test, y_pred)"
   ]
  },
  {
   "cell_type": "markdown",
   "id": "79442435",
   "metadata": {},
   "source": [
    "##  Plots"
   ]
  },
  {
   "cell_type": "markdown",
   "id": "9df6d329",
   "metadata": {},
   "source": [
    "min(X_train[:, 0])"
   ]
  },
  {
   "cell_type": "code",
   "execution_count": 35,
   "id": "4c22d0e8",
   "metadata": {},
   "outputs": [
    {
     "data": {
      "image/png": "[encoded data removed]",
      "text/plain": [
       "<Figure size 640x480 with 1 Axes>"
      ]
     },
     "metadata": {},
     "output_type": "display_data"
    }
   ],
   "source": [
    "y_pred= model1.predict(X_train)\n",
    "plt.scatter(X_train[:, 0], y_train)\n",
    "plt.plot([min(X_train[:, 0]), max(X_train[:, 0])], [min(y_pred), max(y_pred)],\n",
    "         color=\"orange\");\n",
    "plt.xlabel(\"Population (Normalized)\")\n",
    "plt.ylabel(\"Total Deaths (Normalized)\");\n"
   ]
  },
  {
   "cell_type": "code",
   "execution_count": 41,
   "id": "b6108792",
   "metadata": {},
   "outputs": [
    {
     "data": {
      "image/png": "[encoded data removed]",
      "text/plain": [
       "<Figure size 640x480 with 1 Axes>"
      ]
     },
     "metadata": {},
     "output_type": "display_data"
    }
   ],
   "source": [
    "plt.scatter(X_train[:, 3], y_train)\n",
    "plt.plot([min(X_train[:, 3]), max(X_train[:, 3])], [min(y_pred), max(y_pred)],\n",
    "         color=\"orange\");\n",
    "plt.xlabel(\"Total Tests (Normalized)\")\n",
    "plt.ylabel(\"Total Deaths (Normalized)\");"
   ]
  },
  {
   "cell_type": "code",
   "execution_count": 55,
   "id": "652ede3d",
   "metadata": {},
   "outputs": [
    {
     "data": {
      "image/png": "[encoded data removed]",
      "text/plain": [
       "<Figure size 640x480 with 1 Axes>"
      ]
     },
     "metadata": {},
     "output_type": "display_data"
    }
   ],
   "source": [
    "plt.scatter(X_train[:, 5], y_train)\n",
    "plt.plot([min(X_train[:, 5]), max(X_train[:, 5])], [min(y_pred), max(y_pred)],\n",
    "         color=\"orange\");\n",
    "plt.xlabel(\"Total Cases (Normalized)\")\n",
    "plt.ylabel(\"Total Cases (Normalized)\");"
   ]
  },
  {
   "cell_type": "code",
   "execution_count": null,
   "id": "ea7801dc",
   "metadata": {},
   "outputs": [],
   "source": []
  }
 ],
 "metadata": {
  "kernelspec": {
   "display_name": "Python 3 (ipykernel)",
   "language": "python",
   "name": "python3"
  },
  "language_info": {
   "codemirror_mode": {
    "name": "ipython",
    "version": 3
   },
   "file_extension": ".py",
   "mimetype": "text/x-python",
   "name": "python",
   "nbconvert_exporter": "python",
   "pygments_lexer": "ipython3",
   "version": "3.10.9"
  }
 },
 "nbformat": 4,
 "nbformat_minor": 5
}
