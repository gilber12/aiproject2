{
 "cells": [
  {
   "cell_type": "code",
   "execution_count": 183,
   "id": "0d77655a",
   "metadata": {},
   "outputs": [],
   "source": [
    "#imports\n",
    "import numpy as np\n",
    "import pandas as pd\n",
    "import matplotlib.pyplot as plt\n",
    "from sklearn.cluster import KMeans\n",
    "from sklearn.model_selection import train_test_split\n",
    "from sklearn.linear_model import LinearRegression\n",
    "from sklearn import preprocessing\n",
    "from sklearn import metrics\n",
    "\n",
    "\n",
    "import warnings\n",
    "warnings.filterwarnings('ignore')"
   ]
  },
  {
   "cell_type": "code",
   "execution_count": 184,
   "id": "0e4fb99d",
   "metadata": {},
   "outputs": [],
   "source": [
    "df = pd.read_csv(\"covid_data.csv\")"
   ]
  },
  {
   "cell_type": "markdown",
   "id": "4633f0c6",
   "metadata": {},
   "source": [
    "## Listing All the Variables"
   ]
  },
  {
   "cell_type": "code",
   "execution_count": 185,
   "id": "bb805585",
   "metadata": {},
   "outputs": [
    {
     "name": "stdout",
     "output_type": "stream",
     "text": [
      "(238234, 67)\n",
      "67 variables\n"
     ]
    }
   ],
   "source": [
    "print(df.shape)\n",
    "variables = list(df.columns)\n",
    "print(f\"{len(variables)} variables\")"
   ]
  },
  {
   "cell_type": "markdown",
   "id": "bc437afa",
   "metadata": {},
   "source": [
    "## Dealing with Missing Values"
   ]
  },
  {
   "cell_type": "code",
   "execution_count": 186,
   "id": "2910f11a",
   "metadata": {},
   "outputs": [
    {
     "data": {
      "text/plain": [
       "0"
      ]
     },
     "execution_count": 186,
     "metadata": {},
     "output_type": "execute_result"
    }
   ],
   "source": [
    "df = df.fillna(value = 0)\n",
    "df.isnull().sum().sum()"
   ]
  },
  {
   "cell_type": "markdown",
   "id": "f8dc1c84",
   "metadata": {},
   "source": [
    "## Get the Correlation Matrix"
   ]
  },
  {
   "cell_type": "code",
   "execution_count": 187,
   "id": "ce84a72c",
   "metadata": {},
   "outputs": [],
   "source": [
    "corrMatrix = df.corr()"
   ]
  },
  {
   "cell_type": "code",
   "execution_count": 188,
   "id": "c08f0cc8",
   "metadata": {},
   "outputs": [
    {
     "name": "stdout",
     "output_type": "stream",
     "text": [
      "Column to explore 14\n"
     ]
    },
    {
     "data": {
      "text/plain": [
       "total_cases                       0.936711\n",
       "new_cases                         0.706417\n",
       "new_cases_smoothed                0.726616\n",
       "total_deaths                      1.000000\n",
       "new_deaths                        0.607181\n",
       "new_deaths_smoothed               0.626021\n",
       "total_vaccinations                0.833605\n",
       "people_vaccinated                 0.853855\n",
       "people_fully_vaccinated           0.836693\n",
       "total_boosters                    0.754619\n",
       "new_vaccinations                  0.623179\n",
       "new_vaccinations_smoothed         0.635393\n",
       "new_people_vaccinated_smoothed    0.536540\n",
       "population                        0.713426\n",
       "Name: total_deaths, dtype: float64"
      ]
     },
     "execution_count": 188,
     "metadata": {},
     "output_type": "execute_result"
    }
   ],
   "source": [
    "deathRateCol = corrMatrix['total_deaths'] \n",
    "columnsToExplore = deathRateCol[abs(corrMatrix['total_deaths']) > 0.5]\n",
    "print(\"Column to explore\", len(columnsToExplore))\n",
    "columnsToExplore"
   ]
  },
  {
   "cell_type": "code",
   "execution_count": 189,
   "id": "08019117",
   "metadata": {},
   "outputs": [],
   "source": [
    "indexList = columnsToExplore.index.values.tolist() #variables that might be useful"
   ]
  },
  {
   "cell_type": "code",
   "execution_count": 190,
   "id": "d5fb1b7c",
   "metadata": {},
   "outputs": [
    {
     "data": {
      "text/html": [
       "<div>\n",
       "<style scoped>\n",
       "    .dataframe tbody tr th:only-of-type {\n",
       "        vertical-align: middle;\n",
       "    }\n",
       "\n",
       "    .dataframe tbody tr th {\n",
       "        vertical-align: top;\n",
       "    }\n",
       "\n",
       "    .dataframe thead th {\n",
       "        text-align: right;\n",
       "    }\n",
       "</style>\n",
       "<table border=\"1\" class=\"dataframe\">\n",
       "  <thead>\n",
       "    <tr style=\"text-align: right;\">\n",
       "      <th></th>\n",
       "      <th>iso_code</th>\n",
       "      <th>continent</th>\n",
       "      <th>location</th>\n",
       "      <th>date</th>\n",
       "      <th>total_cases</th>\n",
       "      <th>new_cases</th>\n",
       "      <th>new_cases_smoothed</th>\n",
       "      <th>total_deaths</th>\n",
       "      <th>new_deaths</th>\n",
       "      <th>new_deaths_smoothed</th>\n",
       "      <th>...</th>\n",
       "      <th>male_smokers</th>\n",
       "      <th>handwashing_facilities</th>\n",
       "      <th>hospital_beds_per_thousand</th>\n",
       "      <th>life_expectancy</th>\n",
       "      <th>human_development_index</th>\n",
       "      <th>population</th>\n",
       "      <th>excess_mortality_cumulative_absolute</th>\n",
       "      <th>excess_mortality_cumulative</th>\n",
       "      <th>excess_mortality</th>\n",
       "      <th>excess_mortality_cumulative_per_million</th>\n",
       "    </tr>\n",
       "  </thead>\n",
       "  <tbody>\n",
       "    <tr>\n",
       "      <th>1631</th>\n",
       "      <td>OWID_AFR</td>\n",
       "      <td>0</td>\n",
       "      <td>Africa</td>\n",
       "      <td>2021-10-28</td>\n",
       "      <td>8491909.0</td>\n",
       "      <td>5895.0</td>\n",
       "      <td>5315.429</td>\n",
       "      <td>217820.0</td>\n",
       "      <td>199.0</td>\n",
       "      <td>202.429</td>\n",
       "      <td>...</td>\n",
       "      <td>0.0</td>\n",
       "      <td>0.000</td>\n",
       "      <td>0.0</td>\n",
       "      <td>0.00</td>\n",
       "      <td>0.000</td>\n",
       "      <td>1.426737e+09</td>\n",
       "      <td>0.0</td>\n",
       "      <td>0.0</td>\n",
       "      <td>0.0</td>\n",
       "      <td>0.0</td>\n",
       "    </tr>\n",
       "    <tr>\n",
       "      <th>1632</th>\n",
       "      <td>OWID_AFR</td>\n",
       "      <td>0</td>\n",
       "      <td>Africa</td>\n",
       "      <td>2021-10-29</td>\n",
       "      <td>8496820.0</td>\n",
       "      <td>4911.0</td>\n",
       "      <td>5353.000</td>\n",
       "      <td>217987.0</td>\n",
       "      <td>167.0</td>\n",
       "      <td>199.714</td>\n",
       "      <td>...</td>\n",
       "      <td>0.0</td>\n",
       "      <td>0.000</td>\n",
       "      <td>0.0</td>\n",
       "      <td>0.00</td>\n",
       "      <td>0.000</td>\n",
       "      <td>1.426737e+09</td>\n",
       "      <td>0.0</td>\n",
       "      <td>0.0</td>\n",
       "      <td>0.0</td>\n",
       "      <td>0.0</td>\n",
       "    </tr>\n",
       "    <tr>\n",
       "      <th>1633</th>\n",
       "      <td>OWID_AFR</td>\n",
       "      <td>0</td>\n",
       "      <td>Africa</td>\n",
       "      <td>2021-10-30</td>\n",
       "      <td>8500461.0</td>\n",
       "      <td>3641.0</td>\n",
       "      <td>5299.571</td>\n",
       "      <td>218109.0</td>\n",
       "      <td>122.0</td>\n",
       "      <td>189.286</td>\n",
       "      <td>...</td>\n",
       "      <td>0.0</td>\n",
       "      <td>0.000</td>\n",
       "      <td>0.0</td>\n",
       "      <td>0.00</td>\n",
       "      <td>0.000</td>\n",
       "      <td>1.426737e+09</td>\n",
       "      <td>0.0</td>\n",
       "      <td>0.0</td>\n",
       "      <td>0.0</td>\n",
       "      <td>0.0</td>\n",
       "    </tr>\n",
       "    <tr>\n",
       "      <th>1634</th>\n",
       "      <td>OWID_AFR</td>\n",
       "      <td>0</td>\n",
       "      <td>Africa</td>\n",
       "      <td>2021-10-31</td>\n",
       "      <td>8504545.0</td>\n",
       "      <td>4084.0</td>\n",
       "      <td>5412.000</td>\n",
       "      <td>218244.0</td>\n",
       "      <td>135.0</td>\n",
       "      <td>186.857</td>\n",
       "      <td>...</td>\n",
       "      <td>0.0</td>\n",
       "      <td>0.000</td>\n",
       "      <td>0.0</td>\n",
       "      <td>0.00</td>\n",
       "      <td>0.000</td>\n",
       "      <td>1.426737e+09</td>\n",
       "      <td>0.0</td>\n",
       "      <td>0.0</td>\n",
       "      <td>0.0</td>\n",
       "      <td>0.0</td>\n",
       "    </tr>\n",
       "    <tr>\n",
       "      <th>1635</th>\n",
       "      <td>OWID_AFR</td>\n",
       "      <td>0</td>\n",
       "      <td>Africa</td>\n",
       "      <td>2021-11-01</td>\n",
       "      <td>8509222.0</td>\n",
       "      <td>4677.0</td>\n",
       "      <td>5122.857</td>\n",
       "      <td>218395.0</td>\n",
       "      <td>151.0</td>\n",
       "      <td>181.857</td>\n",
       "      <td>...</td>\n",
       "      <td>0.0</td>\n",
       "      <td>0.000</td>\n",
       "      <td>0.0</td>\n",
       "      <td>0.00</td>\n",
       "      <td>0.000</td>\n",
       "      <td>1.426737e+09</td>\n",
       "      <td>0.0</td>\n",
       "      <td>0.0</td>\n",
       "      <td>0.0</td>\n",
       "      <td>0.0</td>\n",
       "    </tr>\n",
       "    <tr>\n",
       "      <th>...</th>\n",
       "      <td>...</td>\n",
       "      <td>...</td>\n",
       "      <td>...</td>\n",
       "      <td>...</td>\n",
       "      <td>...</td>\n",
       "      <td>...</td>\n",
       "      <td>...</td>\n",
       "      <td>...</td>\n",
       "      <td>...</td>\n",
       "      <td>...</td>\n",
       "      <td>...</td>\n",
       "      <td>...</td>\n",
       "      <td>...</td>\n",
       "      <td>...</td>\n",
       "      <td>...</td>\n",
       "      <td>...</td>\n",
       "      <td>...</td>\n",
       "      <td>...</td>\n",
       "      <td>...</td>\n",
       "      <td>...</td>\n",
       "      <td>...</td>\n",
       "    </tr>\n",
       "    <tr>\n",
       "      <th>238132</th>\n",
       "      <td>ZWE</td>\n",
       "      <td>Africa</td>\n",
       "      <td>Zimbabwe</td>\n",
       "      <td>2022-08-18</td>\n",
       "      <td>256579.0</td>\n",
       "      <td>14.0</td>\n",
       "      <td>9.429</td>\n",
       "      <td>5589.0</td>\n",
       "      <td>1.0</td>\n",
       "      <td>0.286</td>\n",
       "      <td>...</td>\n",
       "      <td>30.7</td>\n",
       "      <td>36.791</td>\n",
       "      <td>1.7</td>\n",
       "      <td>61.49</td>\n",
       "      <td>0.571</td>\n",
       "      <td>1.632054e+07</td>\n",
       "      <td>0.0</td>\n",
       "      <td>0.0</td>\n",
       "      <td>0.0</td>\n",
       "      <td>0.0</td>\n",
       "    </tr>\n",
       "    <tr>\n",
       "      <th>238134</th>\n",
       "      <td>ZWE</td>\n",
       "      <td>Africa</td>\n",
       "      <td>Zimbabwe</td>\n",
       "      <td>2022-08-20</td>\n",
       "      <td>256616.0</td>\n",
       "      <td>20.0</td>\n",
       "      <td>13.429</td>\n",
       "      <td>5592.0</td>\n",
       "      <td>3.0</td>\n",
       "      <td>0.714</td>\n",
       "      <td>...</td>\n",
       "      <td>30.7</td>\n",
       "      <td>36.791</td>\n",
       "      <td>1.7</td>\n",
       "      <td>61.49</td>\n",
       "      <td>0.571</td>\n",
       "      <td>1.632054e+07</td>\n",
       "      <td>0.0</td>\n",
       "      <td>0.0</td>\n",
       "      <td>0.0</td>\n",
       "      <td>0.0</td>\n",
       "    </tr>\n",
       "    <tr>\n",
       "      <th>238139</th>\n",
       "      <td>ZWE</td>\n",
       "      <td>Africa</td>\n",
       "      <td>Zimbabwe</td>\n",
       "      <td>2022-08-25</td>\n",
       "      <td>256675.0</td>\n",
       "      <td>47.0</td>\n",
       "      <td>13.714</td>\n",
       "      <td>5593.0</td>\n",
       "      <td>1.0</td>\n",
       "      <td>0.571</td>\n",
       "      <td>...</td>\n",
       "      <td>30.7</td>\n",
       "      <td>36.791</td>\n",
       "      <td>1.7</td>\n",
       "      <td>61.49</td>\n",
       "      <td>0.571</td>\n",
       "      <td>1.632054e+07</td>\n",
       "      <td>0.0</td>\n",
       "      <td>0.0</td>\n",
       "      <td>0.0</td>\n",
       "      <td>0.0</td>\n",
       "    </tr>\n",
       "    <tr>\n",
       "      <th>238168</th>\n",
       "      <td>ZWE</td>\n",
       "      <td>Africa</td>\n",
       "      <td>Zimbabwe</td>\n",
       "      <td>2022-09-23</td>\n",
       "      <td>257289.0</td>\n",
       "      <td>30.0</td>\n",
       "      <td>50.000</td>\n",
       "      <td>5599.0</td>\n",
       "      <td>1.0</td>\n",
       "      <td>0.429</td>\n",
       "      <td>...</td>\n",
       "      <td>30.7</td>\n",
       "      <td>36.791</td>\n",
       "      <td>1.7</td>\n",
       "      <td>61.49</td>\n",
       "      <td>0.571</td>\n",
       "      <td>1.632054e+07</td>\n",
       "      <td>0.0</td>\n",
       "      <td>0.0</td>\n",
       "      <td>0.0</td>\n",
       "      <td>0.0</td>\n",
       "    </tr>\n",
       "    <tr>\n",
       "      <th>238178</th>\n",
       "      <td>ZWE</td>\n",
       "      <td>Africa</td>\n",
       "      <td>Zimbabwe</td>\n",
       "      <td>2022-10-03</td>\n",
       "      <td>257538.0</td>\n",
       "      <td>21.0</td>\n",
       "      <td>28.000</td>\n",
       "      <td>5603.0</td>\n",
       "      <td>1.0</td>\n",
       "      <td>0.571</td>\n",
       "      <td>...</td>\n",
       "      <td>30.7</td>\n",
       "      <td>36.791</td>\n",
       "      <td>1.7</td>\n",
       "      <td>61.49</td>\n",
       "      <td>0.571</td>\n",
       "      <td>1.632054e+07</td>\n",
       "      <td>0.0</td>\n",
       "      <td>0.0</td>\n",
       "      <td>0.0</td>\n",
       "      <td>0.0</td>\n",
       "    </tr>\n",
       "  </tbody>\n",
       "</table>\n",
       "<p>23167 rows × 67 columns</p>\n",
       "</div>"
      ],
      "text/plain": [
       "        iso_code continent  location        date  total_cases  new_cases  \\\n",
       "1631    OWID_AFR         0    Africa  2021-10-28    8491909.0     5895.0   \n",
       "1632    OWID_AFR         0    Africa  2021-10-29    8496820.0     4911.0   \n",
       "1633    OWID_AFR         0    Africa  2021-10-30    8500461.0     3641.0   \n",
       "1634    OWID_AFR         0    Africa  2021-10-31    8504545.0     4084.0   \n",
       "1635    OWID_AFR         0    Africa  2021-11-01    8509222.0     4677.0   \n",
       "...          ...       ...       ...         ...          ...        ...   \n",
       "238132       ZWE    Africa  Zimbabwe  2022-08-18     256579.0       14.0   \n",
       "238134       ZWE    Africa  Zimbabwe  2022-08-20     256616.0       20.0   \n",
       "238139       ZWE    Africa  Zimbabwe  2022-08-25     256675.0       47.0   \n",
       "238168       ZWE    Africa  Zimbabwe  2022-09-23     257289.0       30.0   \n",
       "238178       ZWE    Africa  Zimbabwe  2022-10-03     257538.0       21.0   \n",
       "\n",
       "        new_cases_smoothed  total_deaths  new_deaths  new_deaths_smoothed  \\\n",
       "1631              5315.429      217820.0       199.0              202.429   \n",
       "1632              5353.000      217987.0       167.0              199.714   \n",
       "1633              5299.571      218109.0       122.0              189.286   \n",
       "1634              5412.000      218244.0       135.0              186.857   \n",
       "1635              5122.857      218395.0       151.0              181.857   \n",
       "...                    ...           ...         ...                  ...   \n",
       "238132               9.429        5589.0         1.0                0.286   \n",
       "238134              13.429        5592.0         3.0                0.714   \n",
       "238139              13.714        5593.0         1.0                0.571   \n",
       "238168              50.000        5599.0         1.0                0.429   \n",
       "238178              28.000        5603.0         1.0                0.571   \n",
       "\n",
       "        ...  male_smokers  handwashing_facilities  hospital_beds_per_thousand  \\\n",
       "1631    ...           0.0                   0.000                         0.0   \n",
       "1632    ...           0.0                   0.000                         0.0   \n",
       "1633    ...           0.0                   0.000                         0.0   \n",
       "1634    ...           0.0                   0.000                         0.0   \n",
       "1635    ...           0.0                   0.000                         0.0   \n",
       "...     ...           ...                     ...                         ...   \n",
       "238132  ...          30.7                  36.791                         1.7   \n",
       "238134  ...          30.7                  36.791                         1.7   \n",
       "238139  ...          30.7                  36.791                         1.7   \n",
       "238168  ...          30.7                  36.791                         1.7   \n",
       "238178  ...          30.7                  36.791                         1.7   \n",
       "\n",
       "        life_expectancy  human_development_index    population  \\\n",
       "1631               0.00                    0.000  1.426737e+09   \n",
       "1632               0.00                    0.000  1.426737e+09   \n",
       "1633               0.00                    0.000  1.426737e+09   \n",
       "1634               0.00                    0.000  1.426737e+09   \n",
       "1635               0.00                    0.000  1.426737e+09   \n",
       "...                 ...                      ...           ...   \n",
       "238132            61.49                    0.571  1.632054e+07   \n",
       "238134            61.49                    0.571  1.632054e+07   \n",
       "238139            61.49                    0.571  1.632054e+07   \n",
       "238168            61.49                    0.571  1.632054e+07   \n",
       "238178            61.49                    0.571  1.632054e+07   \n",
       "\n",
       "        excess_mortality_cumulative_absolute  excess_mortality_cumulative  \\\n",
       "1631                                     0.0                          0.0   \n",
       "1632                                     0.0                          0.0   \n",
       "1633                                     0.0                          0.0   \n",
       "1634                                     0.0                          0.0   \n",
       "1635                                     0.0                          0.0   \n",
       "...                                      ...                          ...   \n",
       "238132                                   0.0                          0.0   \n",
       "238134                                   0.0                          0.0   \n",
       "238139                                   0.0                          0.0   \n",
       "238168                                   0.0                          0.0   \n",
       "238178                                   0.0                          0.0   \n",
       "\n",
       "        excess_mortality  excess_mortality_cumulative_per_million  \n",
       "1631                 0.0                                      0.0  \n",
       "1632                 0.0                                      0.0  \n",
       "1633                 0.0                                      0.0  \n",
       "1634                 0.0                                      0.0  \n",
       "1635                 0.0                                      0.0  \n",
       "...                  ...                                      ...  \n",
       "238132               0.0                                      0.0  \n",
       "238134               0.0                                      0.0  \n",
       "238139               0.0                                      0.0  \n",
       "238168               0.0                                      0.0  \n",
       "238178               0.0                                      0.0  \n",
       "\n",
       "[23167 rows x 67 columns]"
      ]
     },
     "execution_count": 190,
     "metadata": {},
     "output_type": "execute_result"
    }
   ],
   "source": [
    "for i in range(len(indexList)):              #get rid of rows with 0 entry for the prospective predictors\n",
    "    df = df[df[indexList[i]] != 0]\n",
    "df"
   ]
  },
  {
   "cell_type": "code",
   "execution_count": 191,
   "id": "3b4beeda",
   "metadata": {},
   "outputs": [
    {
     "name": "stdout",
     "output_type": "stream",
     "text": [
      "Column to explore 14\n"
     ]
    },
    {
     "data": {
      "text/plain": [
       "total_cases                       0.928180\n",
       "new_cases                         0.663495\n",
       "new_cases_smoothed                0.686475\n",
       "total_deaths                      1.000000\n",
       "new_deaths                        0.606598\n",
       "new_deaths_smoothed               0.626728\n",
       "total_vaccinations                0.842060\n",
       "people_vaccinated                 0.843710\n",
       "people_fully_vaccinated           0.826610\n",
       "total_boosters                    0.741795\n",
       "new_vaccinations                  0.605218\n",
       "new_vaccinations_smoothed         0.618297\n",
       "new_people_vaccinated_smoothed    0.504893\n",
       "population                        0.834020\n",
       "Name: total_deaths, dtype: float64"
      ]
     },
     "execution_count": 191,
     "metadata": {},
     "output_type": "execute_result"
    }
   ],
   "source": [
    "corrMatrix2 = df.corr()#update the correlation matrix\n",
    "deathRateCol2 = corrMatrix2['total_deaths'] \n",
    "columnsToExplore2 = deathRateCol2[abs(corrMatrix2['total_deaths']) >0.5]\n",
    "print(\"Column to explore\", len(columnsToExplore2))\n",
    "columnsToExplore2"
   ]
  },
  {
   "cell_type": "markdown",
   "id": "3a388117",
   "metadata": {},
   "source": [
    "## Doing a Multiple Linear Regression"
   ]
  },
  {
   "cell_type": "code",
   "execution_count": 192,
   "id": "2080e44a",
   "metadata": {},
   "outputs": [
    {
     "data": {
      "text/html": [
       "<div>\n",
       "<style scoped>\n",
       "    .dataframe tbody tr th:only-of-type {\n",
       "        vertical-align: middle;\n",
       "    }\n",
       "\n",
       "    .dataframe tbody tr th {\n",
       "        vertical-align: top;\n",
       "    }\n",
       "\n",
       "    .dataframe thead th {\n",
       "        text-align: right;\n",
       "    }\n",
       "</style>\n",
       "<table border=\"1\" class=\"dataframe\">\n",
       "  <thead>\n",
       "    <tr style=\"text-align: right;\">\n",
       "      <th></th>\n",
       "      <th>new_vaccinations</th>\n",
       "      <th>people_vaccinated</th>\n",
       "    </tr>\n",
       "  </thead>\n",
       "  <tbody>\n",
       "    <tr>\n",
       "      <th>new_vaccinations</th>\n",
       "      <td>1.00000</td>\n",
       "      <td>0.60039</td>\n",
       "    </tr>\n",
       "    <tr>\n",
       "      <th>people_vaccinated</th>\n",
       "      <td>0.60039</td>\n",
       "      <td>1.00000</td>\n",
       "    </tr>\n",
       "  </tbody>\n",
       "</table>\n",
       "</div>"
      ],
      "text/plain": [
       "                   new_vaccinations  people_vaccinated\n",
       "new_vaccinations            1.00000            0.60039\n",
       "people_vaccinated           0.60039            1.00000"
      ]
     },
     "execution_count": 192,
     "metadata": {},
     "output_type": "execute_result"
    }
   ],
   "source": [
    "df[['new_vaccinations', 'people_vaccinated']].corr()"
   ]
  },
  {
   "cell_type": "code",
   "execution_count": 193,
   "id": "59997105",
   "metadata": {},
   "outputs": [],
   "source": [
    "X = df[[\"population\", \"total_boosters\", \"people_vaccinated\", \"total_cases\"]]\n",
    "Y = df[[\"total_deaths\"]]"
   ]
  },
  {
   "cell_type": "code",
   "execution_count": 194,
   "id": "d8f14264",
   "metadata": {},
   "outputs": [],
   "source": [
    "X_train, X_test, y_train, y_test = train_test_split(X, Y, test_size=0.3, random_state=101)"
   ]
  },
  {
   "cell_type": "markdown",
   "id": "28b2aa75",
   "metadata": {},
   "source": [
    "## Normalization"
   ]
  },
  {
   "cell_type": "code",
   "execution_count": 195,
   "id": "3d3cb87c",
   "metadata": {},
   "outputs": [],
   "source": [
    "x_scaler = preprocessing.StandardScaler().fit(X_train)\n",
    "X_train = x_scaler.transform(X_train)\n",
    "\n",
    "y_scaler = preprocessing.StandardScaler().fit(y_train)\n",
    "y_train = y_scaler.transform(y_train)"
   ]
  },
  {
   "cell_type": "markdown",
   "id": "55d523d2",
   "metadata": {},
   "source": [
    "## Model Training"
   ]
  },
  {
   "cell_type": "code",
   "execution_count": 196,
   "id": "28c1607c",
   "metadata": {},
   "outputs": [],
   "source": [
    "model1=LinearRegression()\n",
    "model1.fit(X_train , y_train)\n",
    "y_pred= model1.predict(X_train)"
   ]
  },
  {
   "cell_type": "markdown",
   "id": "f9734796",
   "metadata": {},
   "source": [
    "## Model Testing: Training Data"
   ]
  },
  {
   "cell_type": "code",
   "execution_count": 197,
   "id": "85d59571",
   "metadata": {},
   "outputs": [
    {
     "data": {
      "text/html": [
       "<div>\n",
       "<style scoped>\n",
       "    .dataframe tbody tr th:only-of-type {\n",
       "        vertical-align: middle;\n",
       "    }\n",
       "\n",
       "    .dataframe tbody tr th {\n",
       "        vertical-align: top;\n",
       "    }\n",
       "\n",
       "    .dataframe thead th {\n",
       "        text-align: right;\n",
       "    }\n",
       "</style>\n",
       "<table border=\"1\" class=\"dataframe\">\n",
       "  <thead>\n",
       "    <tr style=\"text-align: right;\">\n",
       "      <th></th>\n",
       "      <th>Metrics</th>\n",
       "    </tr>\n",
       "  </thead>\n",
       "  <tbody>\n",
       "    <tr>\n",
       "      <th>MSE</th>\n",
       "      <td>0.073474</td>\n",
       "    </tr>\n",
       "    <tr>\n",
       "      <th>RMSE</th>\n",
       "      <td>0.271060</td>\n",
       "    </tr>\n",
       "  </tbody>\n",
       "</table>\n",
       "</div>"
      ],
      "text/plain": [
       "       Metrics\n",
       "MSE   0.073474\n",
       "RMSE  0.271060"
      ]
     },
     "execution_count": 197,
     "metadata": {},
     "output_type": "execute_result"
    }
   ],
   "source": [
    "MSE = metrics.mean_squared_error(y_train, y_pred)\n",
    "RMSE = np.sqrt(MSE)\n",
    "pd.DataFrame([MSE, RMSE], index=['MSE', 'RMSE'], columns=['Metrics'])"
   ]
  },
  {
   "cell_type": "code",
   "execution_count": 198,
   "id": "03beb70b",
   "metadata": {},
   "outputs": [
    {
     "data": {
      "text/plain": [
       "0.9265263755890519"
      ]
     },
     "execution_count": 198,
     "metadata": {},
     "output_type": "execute_result"
    }
   ],
   "source": [
    "metrics.r2_score(y_train, y_pred)"
   ]
  },
  {
   "cell_type": "markdown",
   "id": "c591be2b",
   "metadata": {},
   "source": [
    "## Model Testing: Testing Data"
   ]
  },
  {
   "cell_type": "code",
   "execution_count": 199,
   "id": "51a61564",
   "metadata": {},
   "outputs": [],
   "source": [
    "X_test = x_scaler.transform(X_test)\n",
    "y_test = y_scaler.transform(y_test)\n",
    "y_pred= model1.predict(X_test)"
   ]
  },
  {
   "cell_type": "code",
   "execution_count": 200,
   "id": "fe143efd",
   "metadata": {},
   "outputs": [
    {
     "data": {
      "text/html": [
       "<div>\n",
       "<style scoped>\n",
       "    .dataframe tbody tr th:only-of-type {\n",
       "        vertical-align: middle;\n",
       "    }\n",
       "\n",
       "    .dataframe tbody tr th {\n",
       "        vertical-align: top;\n",
       "    }\n",
       "\n",
       "    .dataframe thead th {\n",
       "        text-align: right;\n",
       "    }\n",
       "</style>\n",
       "<table border=\"1\" class=\"dataframe\">\n",
       "  <thead>\n",
       "    <tr style=\"text-align: right;\">\n",
       "      <th></th>\n",
       "      <th>Metrics</th>\n",
       "    </tr>\n",
       "  </thead>\n",
       "  <tbody>\n",
       "    <tr>\n",
       "      <th>MSE</th>\n",
       "      <td>0.075736</td>\n",
       "    </tr>\n",
       "    <tr>\n",
       "      <th>RMSE</th>\n",
       "      <td>0.275202</td>\n",
       "    </tr>\n",
       "  </tbody>\n",
       "</table>\n",
       "</div>"
      ],
      "text/plain": [
       "       Metrics\n",
       "MSE   0.075736\n",
       "RMSE  0.275202"
      ]
     },
     "execution_count": 200,
     "metadata": {},
     "output_type": "execute_result"
    }
   ],
   "source": [
    "MSE = metrics.mean_squared_error(y_test, y_pred)\n",
    "RMSE = np.sqrt(MSE)\n",
    "pd.DataFrame([MSE, RMSE], index=['MSE', 'RMSE'], columns=['Metrics'])"
   ]
  },
  {
   "cell_type": "code",
   "execution_count": 201,
   "id": "4f65754b",
   "metadata": {},
   "outputs": [
    {
     "data": {
      "text/plain": [
       "0.9258158003084846"
      ]
     },
     "execution_count": 201,
     "metadata": {},
     "output_type": "execute_result"
    }
   ],
   "source": [
    "metrics.r2_score(y_test, y_pred)"
   ]
  },
  {
   "cell_type": "code",
   "execution_count": null,
   "id": "bf8bb2c5",
   "metadata": {},
   "outputs": [],
   "source": []
  }
 ],
 "metadata": {
  "kernelspec": {
   "display_name": "Python 3 (ipykernel)",
   "language": "python",
   "name": "python3"
  },
  "language_info": {
   "codemirror_mode": {
    "name": "ipython",
    "version": 3
   },
   "file_extension": ".py",
   "mimetype": "text/x-python",
   "name": "python",
   "nbconvert_exporter": "python",
   "pygments_lexer": "ipython3",
   "version": "3.10.9"
  }
 },
 "nbformat": 4,
 "nbformat_minor": 5
}
